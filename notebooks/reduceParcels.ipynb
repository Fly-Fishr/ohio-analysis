{
 "cells": [
  {
   "cell_type": "code",
   "execution_count": null,
   "metadata": {},
   "outputs": [],
   "source": [
    "import geopandas\n",
    "import pandas\n",
    "import os\n",
    "from pathlib import Path\n",
    "import networkx\n"
   ]
  },
  {
   "cell_type": "code",
   "execution_count": null,
   "metadata": {
    "pycharm": {
     "name": "#%%\n"
    }
   },
   "outputs": [],
   "source": [
    "allCounties = geopandas.read_file(\"allCounties-sorta.gpkg\").set_crs(4269)\n",
    "county = geopandas.GeoDataFrame()\n",
    "fin = geopandas.GeoDataFrame()\n",
    "\n",
    "\n",
    "ownersList = list(allCounties.owner.values)\n",
    "\n",
    "cohort = 0\n",
    "\n",
    "ownersList.sort()"
   ]
  },
  {
   "cell_type": "code",
   "execution_count": null,
   "outputs": [],
   "source": [
    "# Merges same owner parcels that are close to each other into a group.  An owner can have more than 1 group.\n",
    "# This needs to be optimized. Really Really Really Really Really needs to be.  Why I didn't in the first place? PyCharm was being weird and it would be done in the morning\n",
    "# --> Modify the site-joining used in the 'existingSiteAnalysis' notebook to fit the same owner constraint\n",
    "\n",
    "# Just counts\n",
    "num = 0\n",
    "for owner in ownersList:\n",
    "\n",
    "    num = num + 1\n",
    "    if num % 10 == 0:\n",
    "        print(num)\n",
    "    combined = []\n",
    "    group = allCounties[allCounties.owner == owner].to_crs(\"ESRI:54012\").explode()\n",
    "\n",
    "    for x in range(len(group)):\n",
    "        y = x + 1\n",
    "        combined.append((x,x))\n",
    "        try:\n",
    "            while y < len(group):\n",
    "                if group.iloc[x].geometry.distance(group.iloc[y].geometry) < 100:\n",
    "                    combined.append((x, y))\n",
    "                y = y + 1\n",
    "        except Exception as e:\n",
    "            print(e)\n",
    "            print(\"oops\")\n",
    "\n",
    "\n",
    "    g = networkx.Graph(combined)\n",
    "    try:\n",
    "        for subgraph in networkx.connected_component_subgraphs(g):\n",
    "            b = list(subgraph.nodes())\n",
    "\n",
    "            for parcs in b:\n",
    "                fin = fin.append(group.iloc[parcs], ignore_index=True)\n",
    "                fin.loc[fin.last_valid_index(), \"gruppen\"] = cohort\n",
    "\n",
    "\n",
    "            cohort = cohort + 1\n",
    "\n",
    "    except Exception as e:\n",
    "        print(e)\n",
    "\n"
   ],
   "metadata": {
    "collapsed": false,
    "pycharm": {
     "name": "#%%\n"
    }
   }
  },
  {
   "cell_type": "code",
   "execution_count": null,
   "outputs": [],
   "source": [
    "fin.to_file(\"finny.gpkg\", driver=\"GPKG\")"
   ],
   "metadata": {
    "collapsed": false,
    "pycharm": {
     "name": "#%%\n"
    }
   }
  },
  {
   "cell_type": "code",
   "execution_count": null,
   "outputs": [],
   "source": [
    "procd = geopandas.read_file(\"finny.gpkg\").set_crs(crs=\"ESRI:54012\")\n",
    "\n",
    "\n",
    "procd.loc[:, \"acres\"] = pandas.DataFrame(round((procd.geometry.area / 4046.86), 2)).values"
   ],
   "metadata": {
    "collapsed": false,
    "pycharm": {
     "name": "#%%\n"
    }
   }
  },
  {
   "cell_type": "code",
   "execution_count": null,
   "outputs": [],
   "source": [
    "procd = procd.dissolve(by=\"gruppen\")\n",
    "\n",
    "procd = procd[procd.acres > 140]\n",
    "procd = procd.drop_duplicates()"
   ],
   "metadata": {
    "collapsed": false,
    "pycharm": {
     "name": "#%%\n"
    }
   }
  },
  {
   "cell_type": "code",
   "execution_count": null,
   "outputs": [],
   "source": [
    "substations = geopandas.read_file(str(Path(\"../data/Electric_Substations-shp.zip\"))).to_crs(\"ESRI:54012\")\n",
    "transLines = geopandas.read_file(str(Path(\"../data/Electric_Power_Transmission_Lines-shp.zip\"))).to_crs(\"ESRI:54012\")\n",
    "\n",
    "countyList = list(procd.county.drop_duplicates().values)"
   ],
   "metadata": {
    "collapsed": false,
    "pycharm": {
     "name": "#%%\n"
    }
   }
  },
  {
   "cell_type": "code",
   "execution_count": null,
   "outputs": [],
   "source": [
    "import warnings\n",
    "from geoutilities import slopeAspect\n",
    "from importlib import reload\n",
    "reload(slopeAspect)\n",
    "procd.reset_index(inplace=True)\n",
    "warnings.filterwarnings(\"ignore\",category=RuntimeWarning)\n",
    "\n",
    "for county in countyList:\n",
    "    print(county)\n",
    "    procd[procd.county == county].loc[:, \"line_m\"] = slopeAspect.distanceparallel(procd[(procd.county == county)], transLines, \"line_m\")\n",
    "    procd[(procd.county == county)].loc[:, \"substation_m\"] = slopeAspect.distanceparallel(procd[(procd.county == county)], substations, \"substation_m\")"
   ],
   "metadata": {
    "collapsed": false,
    "pycharm": {
     "name": "#%%\n"
    }
   }
  },
  {
   "cell_type": "code",
   "execution_count": null,
   "outputs": [],
   "source": [
    "procd = geopandas.to_file(\"procd.gpkg\", driver=\"GPKG\")"
   ],
   "metadata": {
    "collapsed": false,
    "pycharm": {
     "name": "#%%\n"
    }
   }
  },
  {
   "cell_type": "code",
   "execution_count": null,
   "outputs": [],
   "source": [
    "for index, row in procd.iterrows():\n",
    "    procd.loc[index, \"owner\"] = allCounties[(allCounties.orig_id == row.orig_id)].owner.values[0]"
   ],
   "metadata": {
    "collapsed": false,
    "pycharm": {
     "name": "#%%\n"
    }
   }
  },
  {
   "cell_type": "code",
   "execution_count": null,
   "outputs": [],
   "source": [
    "dropped = procd[~((procd.substation_m > 850) & (procd.line_m > 475))].copy()\n",
    "\n",
    "\n",
    "badwords = [\"state of ohio\", \"city of\", \"department of natural resources\", \"county park\", \"city park\", \"united states of america\", \"metropark\", \"metro park\", \"right of way\", \"metro pk\", \"atomic energy commission\", \"u s a\", \"army\"]\n",
    "\n",
    "droplist = []\n",
    "\n",
    "dropped[\"owner\"] = dropped.owner.apply(lambda x : x.lower())"
   ],
   "metadata": {
    "collapsed": false,
    "pycharm": {
     "name": "#%%\n"
    }
   }
  },
  {
   "cell_type": "code",
   "execution_count": null,
   "outputs": [],
   "source": [
    "for index, row in dropped.iterrows():\n",
    "    for word in badwords:\n",
    "        if word in row.owner.lower():\n",
    "            droplist.append(row.gruppen)\n",
    "\n"
   ],
   "metadata": {
    "collapsed": false,
    "pycharm": {
     "name": "#%%\n"
    }
   }
  },
  {
   "cell_type": "code",
   "execution_count": null,
   "outputs": [],
   "source": [
    "dropped = dropped[~dropped.gruppen.isin(droplist)]\n",
    "\n",
    "import rasterstats\n",
    "dropped.loc[:, \"slope\"] = geopandas.GeoDataFrame(rasterstats.zonal_stats(dropped.to_crs(epsg=4269), \"../data/ohioSlope.tif\", stats=\"mean\"))[\"mean\"].values\n",
    "dropped.loc[:, \"aspect\"] = geopandas.GeoDataFrame(rasterstats.zonal_stats(dropped.to_crs(epsg=4269), \"../data/ohioAspect.tif\", stats=\"mean\"))[\"mean\"].values\n",
    "\n",
    "\n",
    "dropped = dropped[dropped.slope < 11.5]"
   ],
   "metadata": {
    "collapsed": false,
    "pycharm": {
     "name": "#%%\n"
    }
   }
  },
  {
   "cell_type": "code",
   "execution_count": null,
   "outputs": [],
   "source": [
    "dropped.to_file(\"reduced.gpkg\", driver=\"GPKG\")"
   ],
   "metadata": {
    "collapsed": false,
    "pycharm": {
     "name": "#%%\n"
    }
   }
  }
 ],
 "metadata": {
  "kernelspec": {
   "display_name": "Python 3",
   "language": "python",
   "name": "python3"
  },
  "language_info": {
   "codemirror_mode": {
    "name": "ipython",
    "version": 3
   },
   "file_extension": ".py",
   "mimetype": "text/x-python",
   "name": "python",
   "nbconvert_exporter": "python",
   "pygments_lexer": "ipython3",
   "version": "3.8.8"
  }
 },
 "nbformat": 4,
 "nbformat_minor": 1
}