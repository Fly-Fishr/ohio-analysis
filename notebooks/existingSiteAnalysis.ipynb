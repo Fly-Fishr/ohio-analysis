{
 "cells": [
  {
   "cell_type": "markdown",
   "metadata": {},
   "source": [
    "First, prepare the data about existing solar sites by cleaning column names, dropping unnecessary columns, calculating the distance to transmission lines, and calculating the slope and aspect of ."
   ]
  },
  {
   "cell_type": "markdown",
   "metadata": {},
   "source": [
    "    Select only sites in the USA and drop all geometries that represent single points."
   ]
  },
  {
   "cell_type": "code",
   "execution_count": 41,
   "metadata": {
    "pycharm": {
     "name": "#%%\n"
    }
   },

   "source": [
    "import math\n",
    "\n",
    "import geopandas\n",
    "import geopandas as gpd\n",
    "from pathlib import Path\n",
    "\n",
    "import numpy as np\n",
    "\n",
    "solarSource = gpd.read_file(str(Path(\"../data/global_solar_2020.gpkg\")))"
   ]
  },
  {
   "cell_type": "code",
   "execution_count": 42,
   "metadata": {
    "pycharm": {
     "name": "#%%\n"
    }
   },
   "outputs": [
    {
     "data": {
      "text/plain": [
       "10525    MultiPolygon\n",
       "10526    MultiPolygon\n",
       "10527    MultiPolygon\n",
       "10528    MultiPolygon\n",
       "10529    MultiPolygon\n",
       "             ...     \n",
       "34232         Polygon\n",
       "34233         Polygon\n",
       "34234         Polygon\n",
       "34235         Polygon\n",
       "34237         Polygon\n",
       "Length: 3381, dtype: object"
      ]
     },
     "execution_count": 42,
     "metadata": {},
     "output_type": "execute_result"
    }
   ],
   "source": [
    "solarSource = solarSource[solarSource.GID_0 == \"USA\"]\n",
    "solarSource.loc[:, \"geometry\"] = solarSource[(solarSource.geom_type!=\"MultiPoint\") & (solarSource.geom_type!=\"Point\")]\n",
    "solarSource = solarSource.loc[solarSource.is_valid]\n",
    "\n",
    "solarSource.geom_type"
   ]
  },
  {
   "cell_type": "markdown",
   "metadata": {},
   "source": [
    "        Convert from square kilometers to acres."
   ]
  },
  {
   "cell_type": "code",
   "execution_count": 43,
   "metadata": {
    "pycharm": {
     "name": "#%%\n"
    }
   },
   "outputs": [],
   "source": [
    "# 1 square kilometer per 247.10538161 acres\n",
    "kToAcre = 247.10538161\n",
    "solarSource.rename(columns={\"landscape.area\":\"acres\"}, inplace=True)\n",
    "solarSource = solarSource.drop(columns=[\"GID_0\", \"urban\", \"panels\", \"water\", \"power\"])"
   ]
  },
  {
   "cell_type": "code",
   "execution_count": 44,
   "metadata": {
    "pycharm": {
     "name": "#%%\n"
    }
   },
   "outputs": [],
   "source": [
    "solarSource.rename(columns={\"panel.area\":\"panelacres\"}, inplace=True)\n",
    "solarSource[\"acres\"] = round(solarSource.acres*kToAcre)\n",
    "solarSource[\"panelacres\"] = round(solarSource.panelacres*kToAcre)"
   ]
  },
  {
   "cell_type": "markdown",
   "metadata": {},
   "source": [
    "        There are some sites that multi-polygons that are either individual panel clusters or panel rows.  This will throw the\n",
    "    data off when trying to compute site size (Austin, Texas, for example, shows a very large solar site, but it is really\n",
    "    just roof panels on individual domiciles).  Next, the individual polygons will each be buffered by 300m\n",
    "    (i.e. two polygons 600m apart will touch)."
   ]
  },
  {
   "cell_type": "code",
   "execution_count": 45,
   "metadata": {
    "pycharm": {
     "name": "#%%\n"
    }
   },
   "outputs": [],
   "source": [
    "exploded = solarSource.copy()\n",
    "exploded=exploded.explode()\n",
    "explodedBuffer = exploded.copy()\n",
    "explodedBuffer[\"geometry\"] = exploded.buffer(300)"
   ]
  },
  {
   "cell_type": "code",
   "execution_count": 46,
   "metadata": {
    "pycharm": {
     "name": "#%%\n"
    }
   },
   "outputs": [],
   "source": [
    "merged = gpd.GeoDataFrame(explodedBuffer.unary_union)"
   ]
  },
  {
   "cell_type": "code",
   "execution_count": 47,
   "metadata": {
    "pycharm": {
     "name": "#%%\n"
    }
   },
   "outputs": [],
   "source": [
    "merged = merged.reset_index().rename(columns={0: \"geometry\"})\n",
    "merged = merged.set_geometry(\"geometry\")\n",
    "merged.reset_index(inplace=True)\n",
    "merged[\"id\"] = merged.index\n",
    "merged[\"newPoly\"] = merged.index\n",
    "merged.crs = exploded.crs"
   ]
  },
  {
   "cell_type": "code",
   "execution_count": 48,
   "metadata": {
    "pycharm": {
     "name": "#%%\n"
    }
   },
   "outputs": [],
   "source": [
    "reshaped = gpd.sjoin(exploded, merged, how=\"inner\", op=\"intersects\")"
   ]
  },
  {
   "cell_type": "code",
   "execution_count": 49,
   "metadata": {
    "pycharm": {
     "name": "#%%\n"
    }
   },
   "outputs": [],
   "source": [
    "reshaped = reshaped.dissolve(by=\"newPoly\")"
   ]
  },
  {
   "cell_type": "code",
   "execution_count": 50,
   "metadata": {
    "pycharm": {
     "name": "#%%\n"
    }
   },
   "outputs": [],
   "source": [
    "reshaped[\"panelacres\"] = reshaped.geometry.area * 0.0002471052\n",
    "reshaped[\"geometry\"] = reshaped.convex_hull\n",
    "reshaped[\"siteacres\"] = reshaped.geometry.area * 0.0002471052"
   ]
  },
  {
   "cell_type": "code",
   "execution_count": 53,
   "metadata": {
    "pycharm": {
     "name": "#%%\n"
    }
   },
   "outputs": [],
   "source": [
    "toDrop = list()\n",
    "for index, row in reshaped.iterrows():\n",
    "    if (row[\"panelacres\"] / row[\"siteacres\"]) < 0.1:\n",
    "        toDrop.append(int(index))\n",
    "\n",
    "reshaped.drop(index=toDrop, inplace=True)\n",
    "reshaped.drop(columns=[\"index_right\", \"index\", \"level_0\"], inplace=True)"
   ]
  },
  {
   "cell_type": "markdown",
   "metadata": {},
   "source": [
    "        For the moment, the aspect and slope of the existing solar sites is calculated using QGIS and the 3DEP WCS\n",
    "    (https://elevation.nationalmap.gov/arcgis/rest/services/3DEPElevation/ImageServer) and read in to this program.  Because of the large number of\n",
    "    different geographic locations, downloading the elevation raster zone for each site is not feasible.\n",
    "    It should be possible to use the slopeAspect module in the near future by fetching each site location from the USGS service\n",
    "    as an affined array."
   ]
  },
  {
   "cell_type": "code",
   "execution_count": 54,
   "metadata": {
    "pycharm": {
     "name": "#%%\n"
    }
   },

   "source": [
    "siteStats = gpd.read_file(str(Path(\"../data/existingSlopeAspect.gpkg\")))\n",
    "substations = gpd.read_file(str(Path(\"../data/Electric_Substations-shp.zip\")))\n",
    "transLines = gpd.read_file(str(Path(\"../data/Electric_Power_Transmission_Lines-shp.zip\")))\n",
    "transLines = transLines.to_crs(solarSource.crs)\n",
    "substations = substations.to_crs(solarSource.crs)\n"
   ]
  },
  {
   "cell_type": "code",
   "execution_count": 55,
   "metadata": {
    "pycharm": {
     "name": "#%%\n"
    }
   },
   "outputs": [],
   "source": [
    "siteStats.drop(columns=[\"geometry\"], inplace=True)\n",
    "siteStats.rename(columns={\"aspect_mean\":\"aspect\", \"slope_mean\":\"slope\"}, inplace=True)\n",
    "reshaped = reshaped.merge(siteStats, on=\"id\")"
   ]
  },
  {
   "cell_type": "code",
   "execution_count": null,
   "metadata": {
    "pycharm": {
     "name": "#%%\n"
    }
   },
   "outputs": [],
   "source": [
    "reshapedBuffer = gpd.GeoDataFrame()\n",
    "reshapedBuffer[\"geometry\"] = reshaped.geometry.copy()\n",
    "reshapedBuffer.geometry = reshapedBuffer.buffer(40000)\n",
    "reshapedBuffer.crs = reshaped.crs"
   ]
  },
  {
   "cell_type": "code",
   "execution_count": 56,
   "metadata": {
    "pycharm": {
     "name": "#%%\n"
    }
   },
   "outputs": [],
   "source": [
    "substationsClipped = gpd.clip(substations, reshapedBuffer)\n",
    "substationsClipped.to_crs(solarSource.crs, inplace=True)\n",
    "linesClipped = gpd.clip(transLines, reshapedBuffer)\n",
    "linesClipped.to_crs(solarSource.crs, inplace=True)"
   ]
  },
  {
   "cell_type": "markdown",
   "metadata": {},
   "source": [
    "        Calculating the shortest distance to transmission lines and substations takes approximately 10 minutes."
   ]
  },
  {
   "cell_type": "code",
   "execution_count": null,
   "metadata": {
    "pycharm": {
     "name": "#%%\n"
    }
   },
   "outputs": [],
   "source": [
    "from geoutilities import slopeAspect\n",
    "from importlib import reload\n",
    "reload(slopeAspect)\n",
    "reshaped[\"line_m\"] = slopeAspect.distanceparallel(reshaped, linesClipped, \"line_m\")"
   ]
  },
  {
   "cell_type": "code",
   "execution_count": null,
   "metadata": {
    "pycharm": {
     "name": "#%%\n"
    }
   },
   "outputs": [],
   "source": [
    "reshaped[\"substation_m\"] = slopeAspect.distanceparallel(reshaped, substationsClipped, \"substation_m\")\n"
   ]
  },
  {
   "cell_type": "markdown",
   "metadata": {},
   "source": [
    "        Convert the slope from degrees to percent"
   ]
  },
  {
   "cell_type": "code",
   "execution_count": null,
   "metadata": {
    "pycharm": {
     "name": "#%%\n"
    }
   },
   "outputs": [],
   "source": [
    "reshaped.loc[:,\"slope\"] = reshaped.slope.apply(lambda d: math.tan(math.radians(d)) * 100)\n",
    "reshaped.to_crs(epsg=4236, inplace=True)"
   ]
  },
  {
   "cell_type": "code",
   "execution_count": null,
   "metadata": {
    "pycharm": {
     "name": "#%%\n"
    }
   },
   "outputs": [],
   "source": [
    "solarSites = reshaped.copy()"
   ]
  },
  {
   "cell_type": "markdown",
   "metadata": {},
   "source": [
    "        Choose the lower distance from substation_m and line_m as toGrid"
   ]
  },
  {
   "cell_type": "code",
   "execution_count": null,
   "metadata": {
    "pycharm": {
     "name": "#%%\n"
    }
   },
   "outputs": [],
   "source": [
    "for index, row in solarSites.iterrows():\n",
    "    if row[\"substation_m\"] >= row[\"line_m\"]:\n",
    "        solarSites.loc[index, \"toGrid\"] = row[\"line_m\"]\n",
    "    else:\n",
    "        solarSites.loc[index, \"toGrid\"] = row[\"substation_m\"]"
   ]
  },
  {
   "cell_type": "markdown",
   "metadata": {},
   "source": [
    "        First, average the site acres and panel acres. Then, assign a size small, medium, or large to the solar sites depending on the acreage"
   ]
  },
  {
   "cell_type": "code",
   "execution_count": null,
   "metadata": {
    "pycharm": {
     "name": "#%%\n"
    }
   },
   "outputs": [],
   "source": [
    "solarSites[\"acres\"] = (solarSites.siteacres + solarSites.panelacres) / 2\n",
    "\n",
    "def smMdLrg(acres):\n",
    "    if acres < 1:\n",
    "        return \"small\"\n",
    "    elif 1 <= acres < 100:\n",
    "        return \"medium\"\n",
    "    else:\n",
    "        return  \"large\"\n",
    "\n",
    "solarSites.loc[:,\"size\"] = solarSites.loc[:,\"acres\"].apply(smMdLrg)"
   ]
  },
  {
   "cell_type": "markdown",
   "metadata": {},
   "source": [
    "        Set the urban column using the US Census standards"
   ]
  },
  {
   "cell_type": "code",
   "execution_count": null,
   "metadata": {
    "pycharm": {
     "name": "#%%\n"
    }
   },
   "outputs": [],
   "source": [
    "import geopandas as gpd\n",
    "from pathlib import Path\n",
    "\n",
    "urbanAreas = gpd.read_file(Path(\"../data/tl_2020_us_uac10.zip\"))\n",
    "urbanAreas = urbanAreas.to_crs(solarSites.crs)\n",
    "\n",
    "# Find the sites that intersect an urban area\n",
    "isUrban = gpd.sjoin(urbanAreas, solarSites, how=\"inner\", op=\"intersects\")\n",
    "urbanlist = isUrban[\"index_right\"].to_list()\n",
    "\n",
    "\n",
    "for sites in urbanlist:\n",
    "    solarSites.at[sites, \"definition\"] = \"urban\"\n",
    "\n",
    "solarSites.loc[(solarSites.definition != \"urban\"), \"definition\"] = \"rural\""
   ]
  },
  {
   "cell_type": "code",
   "execution_count": null,
   "metadata": {
    "pycharm": {
     "name": "#%%\n"
    }
   },
   "outputs": [],
   "source": [
    "solarSites.to_file(str(Path(\"../data/trainingSites2.gpkg\")), driver=\"GPKG\")"
   ]
  },
  {
   "cell_type": "markdown",
   "metadata": {},
   "source": [
    "        Now, we will use k-means clustering to analyze the prepared solar site data"
   ]
  },
  {
   "cell_type": "code",
   "execution_count": null,
   "metadata": {
    "pycharm": {
     "name": "#%%\n"
    }
   },
   "outputs": [],
   "source": [
    "from matplotlib import pyplot\n",
    "from sklearn.preprocessing import StandardScaler\n",
    "from sklearn.decomposition import PCA\n",
    "from sklearn.cluster import KMeans\n",
    "from pathlib import Path\n",
    "import geopandas as gpd\n",
    "import pandas as pd\n",
    "\n",
    "originalSolarData = gpd.read_file(str(Path(\"../data/trainingSites.gpkg\")))\n",
    "originalSolarData = pd.get_dummies(originalSolarData, columns=[\"definition\"])\n",
    "\n",
    "solarDataSet = originalSolarData.loc[((originalSolarData.toGrid < 2000) & (originalSolarData.acres > 5)),\n",
    "                                     [\"toGrid\", \"slope\", \"aspect\", \"definition_urban\", \"definition_rural\", \"acres\"]].copy()\n",
    "\n",
    "inertia = list()\n",
    "scaler = StandardScaler().fit(solarDataSet)\n",
    "scaledData = scaler.transform(solarDataSet)\n",
    "pca = PCA(n_components=0.99)\n",
    "dataTransform = pca.fit_transform(scaledData)\n",
    "for k in range(2, 10):\n",
    "    clusterModel = KMeans(n_clusters=k).fit(dataTransform)\n",
    "    inertia.append(clusterModel.inertia_)\n",
    "\n",
    "elbow = pd.DataFrame([range(2,10), inertia]).transpose()\n",
    "elbow.columns = [\"k-val\", \"inertia\"]\n",
    "elbow.plot(x=\"k-val\", y=\"inertia\")\n"
   ]
  },
  {
   "cell_type": "code",
   "execution_count": null,
   "metadata": {
    "pycharm": {
     "name": "#%%\n"
    }
   },
   "outputs": [],
   "source": [
    "clusterModel = KMeans(n_clusters=4).fit(dataTransform)\n",
    "solarDataSet.loc[:, \"group\"] = clusterModel.predict(dataTransform)\n",
    "\n",
    "label = clusterModel.predict(dataTransform)\n",
    "print(solarDataSet[\"group\"].value_counts())\n",
    "print(clusterModel.inertia_)"
   ]
  },
  {
   "cell_type": "code",
   "execution_count": null,
   "metadata": {
    "pycharm": {
     "name": "#%%\n"
    }
   },
   "outputs": [],
   "source": [
    "solarDataSet.corr()"
   ]
  },
  {
   "cell_type": "code",
   "execution_count": null,
   "metadata": {
    "pycharm": {
     "name": "#%%\n"
    }
   },
   "outputs": [],
   "source": [
    "import numpy\n",
    "unique = numpy.unique(label)\n",
    "centroids = clusterModel.cluster_centers_\n",
    "\n",
    "# plotting the results:\n",
    "for i in unique:\n",
    "    pyplot.scatter(dataTransform[label==i, 0], dataTransform[label==i, 1], label=i)\n",
    "\n",
    "pyplot.scatter(centroids[:,0], centroids[:,1], s=80, color='c')\n",
    "pyplot.legend()\n",
    "pyplot.figure(figsize=(15,15)).show()"
   ]
  },
  {
   "cell_type": "code",
   "execution_count": null,
   "metadata": {
    "pycharm": {
     "name": "#%%\n"
    }
   },
   "outputs": [],
   "source": [
    "mn = solarDataSet.group.min()\n",
    "mx = solarDataSet.group.max()\n",
    "for x in range(mn, (mx+1)):\n",
    "    print(f\"Group {x} MEDIAN\")\n",
    "    print(solarDataSet[solarDataSet[\"group\"] == x].median())\n",
    "    print(f\"Group {x} MEAN\")\n",
    "    print(solarDataSet[solarDataSet[\"group\"] == x].mean())\n",
    "    print(\"\\n\")"
   ]
  },
  {
   "cell_type": "markdown",
   "metadata": {},
   "source": [
    "        Filter outlier groups"
   ]
  },
  {
   "cell_type": "code",
   "execution_count": null,
   "metadata": {
    "pycharm": {
     "name": "#%%\n"
    }
   },
   "outputs": [],
   "source": [
    "val_counts = solarDataSet[\"group\"].value_counts().to_frame().copy()\n",
    "overFive = int(solarDataSet.count()[0] * 0.05)"
   ]
  },
  {
   "cell_type": "code",
   "execution_count": null,
   "metadata": {
    "pycharm": {
     "name": "#%%\n"
    }
   },
   "outputs": [],
   "source": [
    "top = list()\n",
    "for index, groupID in val_counts.iterrows():\n",
    "    print(groupID.values)\n",
    "    if groupID[\"group\"] > overFive:\n",
    "        top.append(groupID.name)\n",
    "\n",
    "topgroups = solarDataSet[solarDataSet[\"group\"].isin(top)]"
   ]
  },
  {
   "cell_type": "markdown",
   "metadata": {},
   "source": [
    "        Plot the top groups"
   ]
  },
  {
   "cell_type": "code",
   "execution_count": null,
   "metadata": {
    "pycharm": {
     "name": "#%%\n"
    }
   },
   "outputs": [],
   "source": [
    "import seaborn as sns\n",
    "sns.displot(topgroups, x=\"toGrid\", y=\"acres\", bins=15)"
   ]
  },
  {
   "cell_type": "code",
   "execution_count": null,
   "metadata": {
    "pycharm": {
     "name": "#%%\n"
    }
   },
   "outputs": [],
   "source": [
    "topgroups.to_csv(\"../data/topgroups.csv\")"
   ]
  },
  {
   "cell_type": "markdown",
   "metadata": {},
   "source": [
    "Create a Random Forest Classification model"
   ]
  },
  {
   "cell_type": "code",
   "execution_count": 1,
   "metadata": {
    "pycharm": {
     "name": "#%%\n"
    }
   },
   "outputs": [],
   "source": [
    "import pandas as pd\n",
    "from sklearn.ensemble import RandomForestClassifier\n",
    "from sklearn.model_selection import train_test_split\n",
    "from sklearn.datasets import make_classification\n",
    "from pathlib import Path\n",
    "from sklearn.preprocessing import StandardScaler\n",
    "from sklearn.metrics import plot_confusion_matrix, classification_report\n",
    "\n",
    "toAnalyze = pd.read_csv(Path(\"../data/topgroups.csv\"))\n",
    "toAnalyze[\"solarsite\"] = 1"
   ]
  },
  {
   "cell_type": "code",
   "execution_count": 2,
   "metadata": {
    "pycharm": {
     "name": "#%%\n"
    }
   },
   "outputs": [],
   "source": [
    "X = toAnalyze.loc[:, [\"toGrid\", \"aspect\", \"slope\", \"acres\"]].copy()\n",
    "y = toAnalyze.loc[:, [\"solarsite\"]].copy()\n",
    "scale = StandardScaler().fit(X)"
   ]
  },
  {
   "cell_type": "markdown",
   "metadata": {},
   "source": [
    "        The remaining number of solar sites to go off after the data were filtered turned out to be rather few, so we will\n",
    "    generate synthetic data and try to (against correct practice) scale it based on the gathered data."
   ]
  },
  {
   "cell_type": "code",
   "execution_count": 24,
   "metadata": {
    "pycharm": {
     "name": "#%%\n"
    }
   },
   "outputs": [],
   "source": [
    "X_gen,y_gen = make_classification(n_samples=100000, n_features=4, n_informative=4, n_redundant=0, n_repeated=0,\n",
    "                                  n_classes=2, n_clusters_per_class=2, class_sep=1.5, weights=[0.7, 0.3])"
   ]
  },
  {
   "cell_type": "code",
   "execution_count": 4,
   "metadata": {
    "pycharm": {
     "name": "#%%\n"
    }
   },
   "outputs": [],
   "source": [
    "X_gen = pd.DataFrame(X_gen)\n",
    "X_gen = scale.inverse_transform(X_gen.abs())"
   ]
  },
  {
   "cell_type": "code",
   "execution_count": 15,
   "metadata": {
    "pycharm": {
     "name": "#%%\n"
    }
   },
   "outputs": [],
   "source": [
    "X_train, X_test, y_train, y_test = train_test_split(X_gen, y_gen, test_size=0.3, random_state=2021)"
   ]
  },
  {
   "cell_type": "code",
   "execution_count": 16,
   "metadata": {
    "pycharm": {
     "name": "#%%\n"
    }
   },
   "outputs": [],
   "source": [
    "RFC_model = RandomForestClassifier().fit(X_train, y_train)\n",
    "y_pred = RFC_model.predict(X_test)"
   ]
  },
  {
   "cell_type": "markdown",
   "metadata": {},
   "source": [
    "        The model appears successfully eliminate non-solar sites but will need further investigaton to improve the false-negatives (nonsolar\n",
    "    that should be considered potential sites)."
   ]
  },
  {
   "cell_type": "code",
   "execution_count": 17,
   "metadata": {
    "pycharm": {
     "name": "#%%\n"
    }
   },
   "outputs": [
    {
     "name": "stdout",
     "output_type": "stream",
     "text": [
      "0.97383\n"
     ]
    },
    {
     "data": {
      "text/html": [
       "<div>\n",
       "<style scoped>\n",
       "    .dataframe tbody tr th:only-of-type {\n",
       "        vertical-align: middle;\n",
       "    }\n",
       "\n",
       "    .dataframe tbody tr th {\n",
       "        vertical-align: top;\n",
       "    }\n",
       "\n",
       "    .dataframe thead th {\n",
       "        text-align: right;\n",
       "    }\n",
       "</style>\n",
       "<table border=\"1\" class=\"dataframe\">\n",
       "  <thead>\n",
       "    <tr style=\"text-align: right;\">\n",
       "      <th></th>\n",
       "      <th>Importance</th>\n",
       "    </tr>\n",
       "  </thead>\n",
       "  <tbody>\n",
       "    <tr>\n",
       "      <th>toGrid</th>\n",
       "      <td>0.232206</td>\n",
       "    </tr>\n",
       "    <tr>\n",
       "      <th>acres</th>\n",
       "      <td>0.236748</td>\n",
       "    </tr>\n",
       "    <tr>\n",
       "      <th>slope</th>\n",
       "      <td>0.264565</td>\n",
       "    </tr>\n",
       "    <tr>\n",
       "      <th>aspect</th>\n",
       "      <td>0.266480</td>\n",
       "    </tr>\n",
       "  </tbody>\n",
       "</table>\n",
       "</div>"
      ],
      "text/plain": [
       "        Importance\n",
       "toGrid    0.232206\n",
       "acres     0.236748\n",
       "slope     0.264565\n",
       "aspect    0.266480"
      ]
     },
     "execution_count": 17,
     "metadata": {},
     "output_type": "execute_result"
    },
    {
     "data": {
      "image/png": "[encoded data removed]",
      "text/plain": [
       "<Figure size 432x288 with 2 Axes>"
      ]
     },
     "metadata": {
      "needs_background": "light"
     },
     "output_type": "display_data"
    },
    {
     "data": {
      "text/plain": [
       "<Figure size 6000x6000 with 0 Axes>"
      ]
     },
     "metadata": {},
     "output_type": "display_data"
    }
   ],
   "source": [
    "import matplotlib.pyplot as pyplot\n",
    "\n",
    "print(RFC_model.score(X_gen, y_gen))\n",
    "plot_confusion_matrix(RFC_model, X_test, y_test)\n",
    "pyplot.figure(figsize=(20,20), dpi=300)\n",
    "\n",
    "pd.DataFrame([RFC_model.feature_importances_], columns=X.columns, index=[\"Importance\"]).transpose().sort_values(\"Importance\")"
   ]
  },
  {
   "cell_type": "markdown",
   "metadata": {},
   "source": [
    "    Export the model"
   ]
  },
  {
   "cell_type": "code",
   "execution_count": null,
   "metadata": {
    "pycharm": {
     "name": "#%%\n"
    }
   },
   "outputs": [],
   "source": []
  },
  {
   "cell_type": "markdown",
   "metadata": {},
   "source": [
    "Finally, assess the accuracy with real world data using 9 counties from across the state using known\n",
    "requirements for a solar site.  You may have to repeat the above process to get a sufficient model."
   ]
  },
  {
   "cell_type": "code",
   "execution_count": 8,
   "metadata": {
    "pycharm": {
     "name": "#%%\n"
    }
   },
   "outputs": [],
   "source": [
    "import geopandas\n",
    "from pathlib import Path\n",
    "from sqlalchemy import create_engine\n",
    "\n",
    "db = \"postgresql://doadmin:XXXXXXXXXXXXXXXXXXXXXXXXXXXXXXXXXXXXXXX\"\n",
    "con = create_engine(db)\n",
    "countyQuery = \"SELECT acres, to_grid, slope, aspect, geometry FROM {}\"\n",
    "\n",
    "sampledCountiesList = [\"geauga_parcels\", \"harrison_parcels\", \"washington_parcels\", \"huron_parcels\", \"licking_parcels\",\n",
    "                   \"lawrence_parcels\", \"fulton_parcels\", \"auglaize_parcels\", \"clermont_parcels\"]\n",
    "\n",
    "sampledCountiesgdf = geopandas.GeoDataFrame()\n",
    "\n",
    "for county in sampledCountiesList:\n",
    "    sampledCountiesgdf = sampledCountiesgdf.append(geopandas.read_postgis(countyQuery.format(county), con, geom_col=\"geometry\"))"
   ]
  },
  {
   "cell_type": "code",
   "execution_count": null,
   "metadata": {
    "pycharm": {
     "name": "#%%\n"
    }
   },
   "outputs": [],
   "source": [
    "from pickle import load\n",
    "treemodel: RandomForestClassifier\n",
    "pkldModel = Path(\"../models/tree_model.pkl\")\n",
    "with open(pkldModel, \"rb\") as pklfile:\n",
    "    treemodel = load(pklfile)\n"
   ]
  },
  {
   "cell_type": "code",
   "execution_count": 18,
   "metadata": {
    "pycharm": {
     "name": "#%%\n"
    }
   },
   "outputs": [],
   "source": [
    "from pandas import DataFrame\n",
    "\n",
    "prediction = treemodel.predict(sampledCountiesgdf[[\"to_grid\", \"aspect\", \"slope\", \"acres\"]])\n",
    "analyzedData = DataFrame(prediction)\n",
    "sampledCountiesgdf[\"solarsites\"] = analyzedData.values"
   ]
  },
  {
   "cell_type": "code",
   "execution_count": 19,
   "metadata": {
    "pycharm": {
     "name": "#%%\n"
    }
   },
   "outputs": [],
   "source": [
    "standard = sampledCountiesgdf[(sampledCountiesgdf.to_grid < 1600) &\n",
    "                              (sampledCountiesgdf.slope < 10)\n",
    "                              ]\n",
    "\n",
    "\n",
    "selected = sampledCountiesgdf[sampledCountiesgdf.solarsites == 1]"
   ]
  },
  {
   "cell_type": "code",
   "execution_count": 20,
   "metadata": {
    "pycharm": {
     "name": "#%%\n"
    }
   },
   "outputs": [
    {
     "name": "stdout",
     "output_type": "stream",
     "text": [
      "The stats for the standard: \n",
      "  Slope Mean:5.975076710869652 \n",
      " Slope Median 2.96994209289551 \n",
      " to_grid Mean:1906.3018605038683 \n",
      " Slope Median 2.96994209289551 \n",
      "Slope Mean:5.975076710869652 \n",
      " Slope Median 2.96994209289551 \n",
      "\n"
     ]
    }
   ],
   "source": [
    "print(f\"The stats for the standard: \\n  Slope Mean:{sampledCountiesgdf.slope.mean()} \\n Slope Median {sampledCountiesgdf.slope.median()} \\n\"\n",
    "      f\" to_grid Mean:{sampledCountiesgdf.to_grid.mean()} \\n Slope Median {sampledCountiesgdf.slope.median()} \\n\"\n",
    "      f\"Slope Mean:{sampledCountiesgdf.slope.mean()} \\n Slope Median {sampledCountiesgdf.slope.median()} \\n\")"
   ]
  },
  {
   "cell_type": "code",
   "execution_count": 20,
   "metadata": {
    "pycharm": {
     "name": "#%%\n"
    }
   },
   "outputs": [],
   "source": []
  },
  {
   "cell_type": "code",
   "execution_count": 21,
   "metadata": {
    "pycharm": {
     "name": "#%%\n"
    }
   },
   "outputs": [
    {
     "name": "stdout",
     "output_type": "stream",
     "text": [
      "The mean values for the standard are: \n",
      " acres           3.872016\n",
      "to_grid       717.236564\n",
      "slope           2.954948\n",
      "aspect        182.539714\n",
      "solarsites      0.099241\n",
      "dtype: float64\n",
      "\n",
      "The median values for the standard are: \n",
      " acres           0.460000\n",
      "to_grid       692.618724\n",
      "slope           2.099423\n",
      "aspect        182.029076\n",
      "solarsites      0.000000\n",
      "dtype: float64 \n",
      "\n",
      "\n",
      "The mean values for the model's selected are: \n",
      " acres            6.207709\n",
      "to_grid       1394.643261\n",
      "slope            9.918662\n",
      "aspect         234.431425\n",
      "solarsites       1.000000\n",
      "dtype: float64\n",
      "\n",
      "The median values for the model's selection are: \n",
      " acres            0.640000\n",
      "to_grid       1442.437550\n",
      "slope            9.617124\n",
      "aspect         232.268914\n",
      "solarsites       1.000000\n",
      "dtype: float64\n"
     ]
    }
   ],
   "source": [
    "print(f\"The mean values for the standard are: \\n {standard.mean()}\\n\")\n",
    "print(f\"The median values for the standard are: \\n {standard.median()} \\n\\n\")\n",
    "print(f\"The mean values for the model's selected are: \\n {selected.mean()}\\n\")\n",
    "print(f\"The median values for the model's selection are: \\n {selected.median()}\")"
   ]
  },
  {
   "cell_type": "code",
   "execution_count": 22,
   "metadata": {
    "pycharm": {
     "name": "#%%\n"
    }
   },
   "source": [
    "# Percent of how many of the parcels the model selected out of the total number that fit the standard\n",
    "round(len(standard[standard.solarsites == 1])/len(standard) * 100, 1)\n",
    "\n",
    "# Percent of the model's selected parcels that fit the standard\n",
    "\n",
    "round(len(standard[standard.solarsites == 1]) / len(selected) * 100, 1)"
   ]
  },
  {
   "cell_type": "markdown",
   "metadata": {},
   "source": [
    "The model on picked 48.5% of the sampled parcels that fit the standard, however 74.8% of the selected parcels\n",
    "did in fact fit the standard.\n"
   ]
  }
 ],
 "metadata": {
  "kernelspec": {
   "display_name": "Python 3",
   "language": "python",
   "name": "python3"
  },
  "language_info": {
   "codemirror_mode": {
    "name": "ipython",
    "version": 3
   },
   "file_extension": ".py",
   "mimetype": "text/x-python",
   "name": "python",
   "nbconvert_exporter": "python",
   "pygments_lexer": "ipython3",
   "version": "3.8.8"
  }
 },
 "nbformat": 4,
 "nbformat_minor": 1
}
