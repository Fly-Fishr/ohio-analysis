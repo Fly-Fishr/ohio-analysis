{
 "cells": [
  {
   "cell_type": "markdown",
   "metadata": {
    "pycharm": {
     "name": "#%% md\n"
    }
   },
   "source": [
    "Import the necessary modules"
   ]
  },
  {
   "cell_type": "code",
   "execution_count": null,
   "metadata": {
    "pycharm": {
     "name": "#%%\n"
    }
   },
   "outputs": [],
   "source": [
    "from pathlib import Path\n",
    "import geopandas\n",
    "import pandas\n",
    "import sys\n",
    "import os\n",
    "from pathlib import Path\n",
    "\n",
    "pandas.set_option(\"display.max_columns\", None)\n",
    "\n",
    "module_path = os.path.abspath(os.path.join('..'))\n",
    "sys.path.append(module_path+str(Path(\"/\")))\n",
    "import geoutilities.convert as convert\n",
    "import geoutilities.slopeAspect as slopeAspect"
   ]
  },
  {
   "cell_type": "markdown",
   "metadata": {},
   "source": [
    "First, load a parcels file by entering its location into filePath\n",
    "\n",
    "    Example:\n",
    "                filePath = Path(\"../data/sampleData/raw/Ashland_Parcels.zip\")\n",
    "                parcels = geopandas.read_file(filePath)\n"
   ]
  },
  {
   "cell_type": "code",
   "execution_count": null,
   "metadata": {
    "pycharm": {
     "name": "#%%\n"
    }
   },
   "outputs": [],
   "source": [
    "filePath = Path(\"../data/sampleData/raw/Ashland_Parcels.zip\")\n",
    "parcels = geopandas.read_file(filePath)"
   ]
  },
  {
   "cell_type": "markdown",
   "metadata": {},
   "source": [
    "1. Search for owners (often under \"deededOwner\") and addresses (often split into columns by Census TIGER standards)\n",
    " and put them in the \"owner\" or \"address\" column.\n",
    "\n",
    "By..."
   ]
  },
  {
   "cell_type": "markdown",
   "metadata": {},
   "source": [
    "Viewing the columns"
   ]
  },
  {
   "cell_type": "code",
   "execution_count": null,
   "metadata": {
    "pycharm": {
     "name": "#%%\n"
    }
   },
   "outputs": [],
   "source": [
    "parcels.head()"
   ]
  },
  {
   "cell_type": "markdown",
   "metadata": {},
   "source": [
    "And then..."
   ]
  },
  {
   "cell_type": "markdown",
   "metadata": {},
   "source": [
    "    1a. Either renaming...\n",
    "\n",
    "            Example:\n",
    "                    oldName = \"DeededOwnr\"\n",
    "                    newName = \"owner\"\n",
    "                    parcels = parcels.rename(columns={oldName:newName})\n",
    "\n",
    "            or\n",
    "                    oldName = \"locAddress\"\n",
    "                    newName = \"address\"\n",
    "                    parcels = parcels.rename(columns={oldName:newName})"
   ]
  },
  {
   "cell_type": "code",
   "execution_count": null,
   "metadata": {
    "pycharm": {
     "name": "#%%\n"
    }
   },
   "outputs": [],
   "source": [
    "oldName = \"DeededOwnr\"\n",
    "newName = \"owner\"\n",
    "\n",
    "parcels = parcels.rename(columns={oldName:newName})"
   ]
  },
  {
   "cell_type": "markdown",
   "metadata": {},
   "source": [
    "    1b. Or creating a new column (owner or address) and combining data.\n",
    "\n",
    "        Example:\n",
    "                newColumn = \"address\"\n",
    "                column1 = \"address\"\n",
    "                column2 = \"address\"\n",
    "                column3 = \"\"\n",
    "\n",
    "\n",
    "            parcels[newColumn] = parcels[column1].astype(str) + \" \" + parcels[column2].astype(str)"
   ]
  },
  {
   "cell_type": "code",
   "execution_count": null,
   "metadata": {
    "pycharm": {
     "name": "#%%\n"
    }
   },
   "outputs": [],
   "source": [
    "newColumn = \"address\"\n",
    "\n",
    "columns = [\"mlocStrNo\", \"mlocStrNam\"]\n",
    "\n",
    "\n",
    "try:\n",
    "    parcels[newColumn] = \"\"\n",
    "    for clmn in columns:\n",
    "                parcels[newColumn] = parcels[newColumn] + parcels[clmn].astype(str) + \" \"\n",
    "\n",
    "    parcels[newColumn] = parcels[newColumn].str.strip()\n",
    "except Exception as e:\n",
    "    print(\"Error renaming columns\")\n",
    "    print(e)\n"
   ]
  },
  {
   "cell_type": "markdown",
   "metadata": {},
   "source": [
    "    1c. The information might not be readily available without contacting the county auditor."
   ]
  },
  {
   "cell_type": "markdown",
   "metadata": {},
   "source": [
    "2. Then calculate its slope, acreage, aspect, and distance to grid."
   ]
  },
  {
   "cell_type": "markdown",
   "metadata": {},
   "source": [
    "    2a. To process a folder or file (parallel processing if more than 1 file), convert the folder to a list of file paths\n",
    "     using the filesList tool, which will generate a list.  This will take approximately 5 minutes per file divided by\n",
    "     the number of processor cores used.\n",
    "\n",
    "            Example:\n",
    "                    fileordirectory = \"../data/sampleData/formatted/Ashland_Parcels.gpkg\"\n",
    "                    upload = False\n",
    "                    cores = 1\n",
    "                    parcelList = convert.filesList(fileordirectory)\n",
    "                    slopeAspect.samePool(parcelList=parcelList, togrid=True, upload=False, save=Path(\"../data/parcels\"))"
   ]
  },
  {
   "cell_type": "code",
   "execution_count": null,
   "metadata": {
    "pycharm": {
     "name": "#%%\n"
    }
   },
   "outputs": [],
   "source": [
    "fileordirectory = \"../data/sampleData/formatted/Ashland_Parcels.gpkg\"\n",
    "upload = True\n",
    "# the number of cores used\n",
    "cores = 1\n",
    "\n",
    "\n",
    "parcelList = convert.filesList(fileordirectory)\n",
    "slopeAspect.samePool(parcelList=parcelList, togrid=True, upload=upload, save=Path(\"../data/parcels\", cores=cores))"
   ]
  },
  {
   "cell_type": "markdown",
   "metadata": {},
   "source": [
    "3. If you chose not to upload the parcels to the database while processing, the files can be uploaded one at a time or as a batch."
   ]
  },
  {
   "cell_type": "markdown",
   "metadata": {},
   "source": [
    "    3a. To upload a file or folder by choosing postGIS as your chosen conversion method.  You will be prompted for your\n",
    "     username and password."
   ]
  },
  {
   "cell_type": "code",
   "execution_count": null,
   "metadata": {
    "pycharm": {
     "name": "#%%\n"
    }
   },
   "outputs": [],
   "source": [
    "FileOrFolderToUpload = \"../data/parcels/ashland_parcels.gpkg\"\n",
    "\n",
    "convert.convertToGenericGeoGEN(\"postgis\", fileordirectory=FileOrFolderToUpload)"
   ]
  },
  {
   "cell_type": "markdown",
   "metadata": {},
   "source": [
    "4. If the need arises, the files can also be converted to geojson, shapefile, and geopackage file formats.  Geometry errors\n",
    "can sometimes be fixed this way."
   ]
  },
  {
   "cell_type": "code",
   "execution_count": null,
   "metadata": {
    "pycharm": {
     "name": "#%%\n"
    }
   },
   "outputs": [],
   "source": [
    "FileOrFolderToUpload = \"../data/parcels/ashland_parcels.gpkg\"\n",
    "\n",
    "convert.convertToGenericGeoGEN(\"\", fileordirectory=FileOrFolderToUpload)"
   ]
  },
  {
   "cell_type": "code",
   "execution_count": null,
   "metadata": {
    "pycharm": {
     "name": "#%%\n"
    }
   },
   "outputs": [],
   "source": []
  }
 ],
 "metadata": {
  "kernelspec": {
   "display_name": "Python 3",
   "language": "python",
   "name": "python3"
  },
  "language_info": {
   "codemirror_mode": {
    "name": "ipython",
    "version": 3
   },
   "file_extension": ".py",
   "mimetype": "text/x-python",
   "name": "python",
   "nbconvert_exporter": "python",
   "pygments_lexer": "ipython3",
   "version": "3.8.8"
  }
 },
 "nbformat": 4,
 "nbformat_minor": 1
}